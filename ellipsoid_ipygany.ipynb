{
 "cells": [
  {
   "cell_type": "code",
   "execution_count": 4,
   "id": "42e4a401-7809-4929-b350-49409ad266b9",
   "metadata": {},
   "outputs": [
    {
     "data": {
      "application/vnd.jupyter.widget-view+json": {
       "model_id": "657c6369bc6d40818adc467759f25327",
       "version_major": 2,
       "version_minor": 0
      },
      "text/plain": [
       "Scene(children=[PolyMesh(data=[], default_color='gray', triangle_indices=array([   0,    1,    2, ..., 1942, 1…"
      ]
     },
     "metadata": {},
     "output_type": "display_data"
    }
   ],
   "source": [
    "import numpy as np\n",
    "import cadquery as cq\n",
    "import gmsh\n",
    "from microgen import *\n",
    "\n",
    "nx=30\n",
    "ny=30\n",
    "nz=30\n",
    "\n",
    "x_ = np.linspace(0., 1., nx)\n",
    "y_ = np.linspace(0., 1., ny)\n",
    "z_ = np.linspace(0., 1., nz)\n",
    "\n",
    "x, y, z = np.meshgrid(x_, y_, z_, indexing='ij')\n",
    "\n",
    "#Size of the mesh\n",
    "size_mesh = 0.03\n",
    "a = 1.0\n",
    "b = 1.0\n",
    "c = 1.0\n",
    "\n",
    "periodicity = 0\n",
    "Revel = Rve(a,b,c,size_mesh)\n",
    "phases = []\n",
    "\n",
    "S = BasicGeometry(101,'ellipsoid', 0.5, 0.5, 0.5, 0, 0, 0, {'a_x': 0.3, 'a_y': 0.3, 'a_z': 0.4}, '')\n",
    "elli = S.generate()\n",
    "\n",
    "listSolids = elli.Solids()\n",
    "\n",
    "\n",
    "\n",
    "compound = cq.Compound.makeCompound(listSolids)\n",
    "cq.exporters.export(compound, 'compound.stl')\n",
    "\n",
    "\n",
    "import vtk\n",
    "\n",
    "instlfile = \"compound.stl\"\n",
    "outputvtkfile = \"compound.vtk\"\n",
    "\n",
    "a = vtk.vtkSTLReader()\n",
    "a.SetFileName(instlfile)\n",
    "a.Update()\n",
    "a = a.GetOutput()\n",
    "\n",
    "# Write the .vtk file\n",
    "b = vtk.vtkPolyDataWriter()\n",
    "b.SetFileName(outputvtkfile)\n",
    "b.SetInputData(a)\n",
    "b.Update()\n",
    "\n",
    "\n",
    "\n",
    "from ipygany import Scene, PolyMesh\n",
    "\n",
    "mesh = PolyMesh.from_vtk('compound.vtk')\n",
    "mesh.default_color = 'gray'\n",
    "\n",
    "scene = Scene([mesh])\n",
    "scene"
   ]
  },
  {
   "cell_type": "code",
   "execution_count": null,
   "id": "aa05edfd-6ea4-4c81-9937-9b84ce841c12",
   "metadata": {},
   "outputs": [],
   "source": []
  }
 ],
 "metadata": {
  "kernelspec": {
   "display_name": "Python 3 (ipykernel)",
   "language": "python",
   "name": "python3"
  },
  "language_info": {
   "codemirror_mode": {
    "name": "ipython",
    "version": 3
   },
   "file_extension": ".py",
   "mimetype": "text/x-python",
   "name": "python",
   "nbconvert_exporter": "python",
   "pygments_lexer": "ipython3",
   "version": "3.9.7"
  }
 },
 "nbformat": 4,
 "nbformat_minor": 5
}
